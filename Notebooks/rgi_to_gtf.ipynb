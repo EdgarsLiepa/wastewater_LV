{
 "cells": [
  {
   "cell_type": "code",
   "execution_count": 3,
   "metadata": {},
   "outputs": [
    {
     "name": "stdout",
     "output_type": "stream",
     "text": [
      "['../../NAS/bioinfo/edgars.liepa/Antibiotic_resistance/ww_publication/ARG_RGI_scaffolds/V300079503_L02_72_rgi.txt', '../../NAS/bioinfo/edgars.liepa/Antibiotic_resistance/ww_publication/ARG_RGI_scaffolds/V300079975_L01_71_rgi.txt', '../../NAS/bioinfo/edgars.liepa/Antibiotic_resistance/ww_publication/ARG_RGI_scaffolds/V300072773_L01_127_rgi.txt', '../../NAS/bioinfo/edgars.liepa/Antibiotic_resistance/ww_publication/ARG_RGI_scaffolds/V300072773_L01_67_rgi.txt', '../../NAS/bioinfo/edgars.liepa/Antibiotic_resistance/ww_publication/ARG_RGI_scaffolds/V300072773_L01_65_rgi.txt', '../../NAS/bioinfo/edgars.liepa/Antibiotic_resistance/ww_publication/ARG_RGI_scaffolds/V300072773_L01_68_rgi.txt', '../../NAS/bioinfo/edgars.liepa/Antibiotic_resistance/ww_publication/ARG_RGI_scaffolds/V300079975_L01_70_rgi.txt', '../../NAS/bioinfo/edgars.liepa/Antibiotic_resistance/ww_publication/ARG_RGI_scaffolds/V300072773_L01_90_rgi.txt', '../../NAS/bioinfo/edgars.liepa/Antibiotic_resistance/ww_publication/ARG_RGI_scaffolds/V300072773_L01_42_rgi.txt', '../../NAS/bioinfo/edgars.liepa/Antibiotic_resistance/ww_publication/ARG_RGI_scaffolds/V300079503_L02_70_rgi.txt', '../../NAS/bioinfo/edgars.liepa/Antibiotic_resistance/ww_publication/ARG_RGI_scaffolds/V300079975_L01_67_rgi.txt', '../../NAS/bioinfo/edgars.liepa/Antibiotic_resistance/ww_publication/ARG_RGI_scaffolds/V300079975_L01_46_rgi.txt', '../../NAS/bioinfo/edgars.liepa/Antibiotic_resistance/ww_publication/ARG_RGI_scaffolds/V300079503_L02_69_rgi.txt', '../../NAS/bioinfo/edgars.liepa/Antibiotic_resistance/ww_publication/ARG_RGI_scaffolds/V300079975_L01_16_rgi.txt', '../../NAS/bioinfo/edgars.liepa/Antibiotic_resistance/ww_publication/ARG_RGI_scaffolds/V300079503_L02_71_rgi.txt', '../../NAS/bioinfo/edgars.liepa/Antibiotic_resistance/ww_publication/ARG_RGI_scaffolds/V300079503_L02_62_rgi.txt', '../../NAS/bioinfo/edgars.liepa/Antibiotic_resistance/ww_publication/ARG_RGI_scaffolds/V300079503_L02_68_rgi.txt', '../../NAS/bioinfo/edgars.liepa/Antibiotic_resistance/ww_publication/ARG_RGI_scaffolds/V300072773_L01_126_rgi.txt', '../../NAS/bioinfo/edgars.liepa/Antibiotic_resistance/ww_publication/ARG_RGI_scaffolds/V300072773_L01_48_rgi.txt', '../../NAS/bioinfo/edgars.liepa/Antibiotic_resistance/ww_publication/ARG_RGI_scaffolds/V300049620_L02_125_rgi.txt', '../../NAS/bioinfo/edgars.liepa/Antibiotic_resistance/ww_publication/ARG_RGI_scaffolds/V300079503_L02_66_rgi.txt', '../../NAS/bioinfo/edgars.liepa/Antibiotic_resistance/ww_publication/ARG_RGI_scaffolds/V300079975_L01_47_rgi.txt', '../../NAS/bioinfo/edgars.liepa/Antibiotic_resistance/ww_publication/ARG_RGI_scaffolds/V300072773_L01_89_rgi.txt', '../../NAS/bioinfo/edgars.liepa/Antibiotic_resistance/ww_publication/ARG_RGI_scaffolds/V300049620_L02_122_rgi.txt', '../../NAS/bioinfo/edgars.liepa/Antibiotic_resistance/ww_publication/ARG_RGI_scaffolds/V300079503_L02_64_rgi.txt', '../../NAS/bioinfo/edgars.liepa/Antibiotic_resistance/ww_publication/ARG_RGI_scaffolds/V300049620_L02_123_rgi.txt', '../../NAS/bioinfo/edgars.liepa/Antibiotic_resistance/ww_publication/ARG_RGI_scaffolds/V300049620_L02_121_rgi.txt', '../../NAS/bioinfo/edgars.liepa/Antibiotic_resistance/ww_publication/ARG_RGI_scaffolds/V300049620_L02_124_rgi.txt', '../../NAS/bioinfo/edgars.liepa/Antibiotic_resistance/ww_publication/ARG_RGI_scaffolds/V300072773_L01_41_rgi.txt', '../../NAS/bioinfo/edgars.liepa/Antibiotic_resistance/ww_publication/ARG_RGI_scaffolds/V300072773_L01_125_rgi.txt', '../../NAS/bioinfo/edgars.liepa/Antibiotic_resistance/ww_publication/ARG_RGI_scaffolds/V300079975_L01_13_rgi.txt', '../../NAS/bioinfo/edgars.liepa/Antibiotic_resistance/ww_publication/ARG_RGI_scaffolds/V300079975_L01_69_rgi.txt', '../../NAS/bioinfo/edgars.liepa/Antibiotic_resistance/ww_publication/ARG_RGI_scaffolds/V300079975_L01_44_rgi.txt', '../../NAS/bioinfo/edgars.liepa/Antibiotic_resistance/ww_publication/ARG_RGI_scaffolds/V300072773_L01_47_rgi.txt', '../../NAS/bioinfo/edgars.liepa/Antibiotic_resistance/ww_publication/ARG_RGI_scaffolds/V300079975_L01_43_rgi.txt', '../../NAS/bioinfo/edgars.liepa/Antibiotic_resistance/ww_publication/ARG_RGI_scaffolds/V300079975_L01_14_rgi.txt', '../../NAS/bioinfo/edgars.liepa/Antibiotic_resistance/ww_publication/ARG_RGI_scaffolds/V300079975_L01_48_rgi.txt', '../../NAS/bioinfo/edgars.liepa/Antibiotic_resistance/ww_publication/ARG_RGI_scaffolds/V300079503_L02_59_rgi.txt', '../../NAS/bioinfo/edgars.liepa/Antibiotic_resistance/ww_publication/ARG_RGI_scaffolds/V300079975_L01_68_rgi.txt', '../../NAS/bioinfo/edgars.liepa/Antibiotic_resistance/ww_publication/ARG_RGI_scaffolds/V300079975_L01_72_rgi.txt', '../../NAS/bioinfo/edgars.liepa/Antibiotic_resistance/ww_publication/ARG_RGI_scaffolds/V300079503_L02_65_rgi.txt', '../../NAS/bioinfo/edgars.liepa/Antibiotic_resistance/ww_publication/ARG_RGI_scaffolds/V300079975_L01_45_rgi.txt', '../../NAS/bioinfo/edgars.liepa/Antibiotic_resistance/ww_publication/ARG_RGI_scaffolds/V300072773_L01_128_rgi.txt', '../../NAS/bioinfo/edgars.liepa/Antibiotic_resistance/ww_publication/ARG_RGI_scaffolds/V300072773_L01_44_rgi.txt', '../../NAS/bioinfo/edgars.liepa/Antibiotic_resistance/ww_publication/ARG_RGI_scaffolds/V300079975_L01_65_rgi.txt', '../../NAS/bioinfo/edgars.liepa/Antibiotic_resistance/ww_publication/ARG_RGI_scaffolds/V300079503_L02_63_rgi.txt', '../../NAS/bioinfo/edgars.liepa/Antibiotic_resistance/ww_publication/ARG_RGI_scaffolds/V300079975_L01_66_rgi.txt', '../../NAS/bioinfo/edgars.liepa/Antibiotic_resistance/ww_publication/ARG_RGI_scaffolds/V300072773_L01_46_rgi.txt', '../../NAS/bioinfo/edgars.liepa/Antibiotic_resistance/ww_publication/ARG_RGI_scaffolds/V300079975_L01_15_rgi.txt', '../../NAS/bioinfo/edgars.liepa/Antibiotic_resistance/ww_publication/ARG_RGI_scaffolds/V300079503_L02_57_rgi.txt', '../../NAS/bioinfo/edgars.liepa/Antibiotic_resistance/ww_publication/ARG_RGI_scaffolds/V300079975_L01_41_rgi.txt', '../../NAS/bioinfo/edgars.liepa/Antibiotic_resistance/ww_publication/ARG_RGI_scaffolds/V300079503_L02_67_rgi.txt', '../../NAS/bioinfo/edgars.liepa/Antibiotic_resistance/ww_publication/ARG_RGI_scaffolds/V300072773_L01_66_rgi.txt', '../../NAS/bioinfo/edgars.liepa/Antibiotic_resistance/ww_publication/ARG_RGI_scaffolds/V300079503_L02_61_rgi.txt', '../../NAS/bioinfo/edgars.liepa/Antibiotic_resistance/ww_publication/ARG_RGI_scaffolds/V300079503_L02_58_rgi.txt', '../../NAS/bioinfo/edgars.liepa/Antibiotic_resistance/ww_publication/ARG_RGI_scaffolds/V300079975_L01_42_rgi.txt', '../../NAS/bioinfo/edgars.liepa/Antibiotic_resistance/ww_publication/ARG_RGI_scaffolds/V300079503_L02_60_rgi.txt']\n"
     ]
    }
   ],
   "source": [
    "# read files from RGI result directory\n",
    "import glob\n",
    "# files = glob.glob(\"/home_beegfs/edgars01/Antibiotic_Resistance/Metagenome/AR_Hospital/06_06_2023/resistance_genes_RGI_scaffolds/*txt\")\n",
    "files = glob.glob(\"../../NAS/bioinfo/edgars.liepa/Antibiotic_resistance/ww_publication/ARG_RGI_scaffolds/*_rgi.txt\")\n",
    "out=\"../../NAS/bioinfo/edgars.liepa/Antibiotic_resistance/ww_publication/ARG_RGI_scaffolds/\"\n",
    "print(files)\n",
    "\n"
   ]
  },
  {
   "attachments": {},
   "cell_type": "markdown",
   "metadata": {},
   "source": [
    "## Make gtf extension file from RGI result file\n",
    "\n",
    "Parse RGI AR gene prediction results from text file and create GTF file for analysis "
   ]
  },
  {
   "cell_type": "code",
   "execution_count": 6,
   "metadata": {},
   "outputs": [
    {
     "name": "stdout",
     "output_type": "stream",
     "text": [
      "File:  ../../NAS/bioinfo/edgars.liepa/Antibiotic_resistance/ww_publication/ARG_RGI_scaffolds/V300079503_L02_72_rgi.txt\n",
      "Write_to: ../../NAS/bioinfo/edgars.liepa/Antibiotic_resistance/ww_publication/ARG_RGI_scaffolds/V300079503_L02_72_rgi_filtered.gtf\n",
      "File:  ../../NAS/bioinfo/edgars.liepa/Antibiotic_resistance/ww_publication/ARG_RGI_scaffolds/V300079975_L01_71_rgi.txt\n",
      "Write_to: ../../NAS/bioinfo/edgars.liepa/Antibiotic_resistance/ww_publication/ARG_RGI_scaffolds/V300079975_L01_71_rgi_filtered.gtf\n",
      "File:  ../../NAS/bioinfo/edgars.liepa/Antibiotic_resistance/ww_publication/ARG_RGI_scaffolds/V300072773_L01_127_rgi.txt\n",
      "Write_to: ../../NAS/bioinfo/edgars.liepa/Antibiotic_resistance/ww_publication/ARG_RGI_scaffolds/V300072773_L01_127_rgi_filtered.gtf\n",
      "File:  ../../NAS/bioinfo/edgars.liepa/Antibiotic_resistance/ww_publication/ARG_RGI_scaffolds/V300072773_L01_67_rgi.txt\n",
      "Write_to: ../../NAS/bioinfo/edgars.liepa/Antibiotic_resistance/ww_publication/ARG_RGI_scaffolds/V300072773_L01_67_rgi_filtered.gtf\n",
      "File:  ../../NAS/bioinfo/edgars.liepa/Antibiotic_resistance/ww_publication/ARG_RGI_scaffolds/V300072773_L01_65_rgi.txt\n",
      "Write_to: ../../NAS/bioinfo/edgars.liepa/Antibiotic_resistance/ww_publication/ARG_RGI_scaffolds/V300072773_L01_65_rgi_filtered.gtf\n",
      "File:  ../../NAS/bioinfo/edgars.liepa/Antibiotic_resistance/ww_publication/ARG_RGI_scaffolds/V300072773_L01_68_rgi.txt\n",
      "Write_to: ../../NAS/bioinfo/edgars.liepa/Antibiotic_resistance/ww_publication/ARG_RGI_scaffolds/V300072773_L01_68_rgi_filtered.gtf\n",
      "File:  ../../NAS/bioinfo/edgars.liepa/Antibiotic_resistance/ww_publication/ARG_RGI_scaffolds/V300079975_L01_70_rgi.txt\n",
      "Write_to: ../../NAS/bioinfo/edgars.liepa/Antibiotic_resistance/ww_publication/ARG_RGI_scaffolds/V300079975_L01_70_rgi_filtered.gtf\n",
      "File:  ../../NAS/bioinfo/edgars.liepa/Antibiotic_resistance/ww_publication/ARG_RGI_scaffolds/V300072773_L01_90_rgi.txt\n",
      "Write_to: ../../NAS/bioinfo/edgars.liepa/Antibiotic_resistance/ww_publication/ARG_RGI_scaffolds/V300072773_L01_90_rgi_filtered.gtf\n",
      "File:  ../../NAS/bioinfo/edgars.liepa/Antibiotic_resistance/ww_publication/ARG_RGI_scaffolds/V300072773_L01_42_rgi.txt\n",
      "Write_to: ../../NAS/bioinfo/edgars.liepa/Antibiotic_resistance/ww_publication/ARG_RGI_scaffolds/V300072773_L01_42_rgi_filtered.gtf\n",
      "File:  ../../NAS/bioinfo/edgars.liepa/Antibiotic_resistance/ww_publication/ARG_RGI_scaffolds/V300079503_L02_70_rgi.txt\n",
      "Write_to: ../../NAS/bioinfo/edgars.liepa/Antibiotic_resistance/ww_publication/ARG_RGI_scaffolds/V300079503_L02_70_rgi_filtered.gtf\n",
      "File:  ../../NAS/bioinfo/edgars.liepa/Antibiotic_resistance/ww_publication/ARG_RGI_scaffolds/V300079975_L01_67_rgi.txt\n",
      "Write_to: ../../NAS/bioinfo/edgars.liepa/Antibiotic_resistance/ww_publication/ARG_RGI_scaffolds/V300079975_L01_67_rgi_filtered.gtf\n",
      "File:  ../../NAS/bioinfo/edgars.liepa/Antibiotic_resistance/ww_publication/ARG_RGI_scaffolds/V300079975_L01_46_rgi.txt\n",
      "Write_to: ../../NAS/bioinfo/edgars.liepa/Antibiotic_resistance/ww_publication/ARG_RGI_scaffolds/V300079975_L01_46_rgi_filtered.gtf\n",
      "File:  ../../NAS/bioinfo/edgars.liepa/Antibiotic_resistance/ww_publication/ARG_RGI_scaffolds/V300079503_L02_69_rgi.txt\n",
      "Write_to: ../../NAS/bioinfo/edgars.liepa/Antibiotic_resistance/ww_publication/ARG_RGI_scaffolds/V300079503_L02_69_rgi_filtered.gtf\n",
      "File:  ../../NAS/bioinfo/edgars.liepa/Antibiotic_resistance/ww_publication/ARG_RGI_scaffolds/V300079975_L01_16_rgi.txt\n",
      "Write_to: ../../NAS/bioinfo/edgars.liepa/Antibiotic_resistance/ww_publication/ARG_RGI_scaffolds/V300079975_L01_16_rgi_filtered.gtf\n",
      "File:  ../../NAS/bioinfo/edgars.liepa/Antibiotic_resistance/ww_publication/ARG_RGI_scaffolds/V300079503_L02_71_rgi.txt\n",
      "Write_to: ../../NAS/bioinfo/edgars.liepa/Antibiotic_resistance/ww_publication/ARG_RGI_scaffolds/V300079503_L02_71_rgi_filtered.gtf\n",
      "File:  ../../NAS/bioinfo/edgars.liepa/Antibiotic_resistance/ww_publication/ARG_RGI_scaffolds/V300079503_L02_62_rgi.txt\n",
      "Write_to: ../../NAS/bioinfo/edgars.liepa/Antibiotic_resistance/ww_publication/ARG_RGI_scaffolds/V300079503_L02_62_rgi_filtered.gtf\n",
      "File:  ../../NAS/bioinfo/edgars.liepa/Antibiotic_resistance/ww_publication/ARG_RGI_scaffolds/V300079503_L02_68_rgi.txt\n",
      "Write_to: ../../NAS/bioinfo/edgars.liepa/Antibiotic_resistance/ww_publication/ARG_RGI_scaffolds/V300079503_L02_68_rgi_filtered.gtf\n",
      "File:  ../../NAS/bioinfo/edgars.liepa/Antibiotic_resistance/ww_publication/ARG_RGI_scaffolds/V300072773_L01_126_rgi.txt\n",
      "Write_to: ../../NAS/bioinfo/edgars.liepa/Antibiotic_resistance/ww_publication/ARG_RGI_scaffolds/V300072773_L01_126_rgi_filtered.gtf\n",
      "File:  ../../NAS/bioinfo/edgars.liepa/Antibiotic_resistance/ww_publication/ARG_RGI_scaffolds/V300072773_L01_48_rgi.txt\n",
      "Write_to: ../../NAS/bioinfo/edgars.liepa/Antibiotic_resistance/ww_publication/ARG_RGI_scaffolds/V300072773_L01_48_rgi_filtered.gtf\n",
      "File:  ../../NAS/bioinfo/edgars.liepa/Antibiotic_resistance/ww_publication/ARG_RGI_scaffolds/V300049620_L02_125_rgi.txt\n",
      "Write_to: ../../NAS/bioinfo/edgars.liepa/Antibiotic_resistance/ww_publication/ARG_RGI_scaffolds/V300049620_L02_125_rgi_filtered.gtf\n",
      "File:  ../../NAS/bioinfo/edgars.liepa/Antibiotic_resistance/ww_publication/ARG_RGI_scaffolds/V300079503_L02_66_rgi.txt\n",
      "Write_to: ../../NAS/bioinfo/edgars.liepa/Antibiotic_resistance/ww_publication/ARG_RGI_scaffolds/V300079503_L02_66_rgi_filtered.gtf\n",
      "File:  ../../NAS/bioinfo/edgars.liepa/Antibiotic_resistance/ww_publication/ARG_RGI_scaffolds/V300079975_L01_47_rgi.txt\n",
      "Write_to: ../../NAS/bioinfo/edgars.liepa/Antibiotic_resistance/ww_publication/ARG_RGI_scaffolds/V300079975_L01_47_rgi_filtered.gtf\n",
      "File:  ../../NAS/bioinfo/edgars.liepa/Antibiotic_resistance/ww_publication/ARG_RGI_scaffolds/V300072773_L01_89_rgi.txt\n",
      "Write_to: ../../NAS/bioinfo/edgars.liepa/Antibiotic_resistance/ww_publication/ARG_RGI_scaffolds/V300072773_L01_89_rgi_filtered.gtf\n",
      "File:  ../../NAS/bioinfo/edgars.liepa/Antibiotic_resistance/ww_publication/ARG_RGI_scaffolds/V300049620_L02_122_rgi.txt\n",
      "Write_to: ../../NAS/bioinfo/edgars.liepa/Antibiotic_resistance/ww_publication/ARG_RGI_scaffolds/V300049620_L02_122_rgi_filtered.gtf\n",
      "File:  ../../NAS/bioinfo/edgars.liepa/Antibiotic_resistance/ww_publication/ARG_RGI_scaffolds/V300079503_L02_64_rgi.txt\n",
      "Write_to: ../../NAS/bioinfo/edgars.liepa/Antibiotic_resistance/ww_publication/ARG_RGI_scaffolds/V300079503_L02_64_rgi_filtered.gtf\n",
      "File:  ../../NAS/bioinfo/edgars.liepa/Antibiotic_resistance/ww_publication/ARG_RGI_scaffolds/V300049620_L02_123_rgi.txt\n",
      "Write_to: ../../NAS/bioinfo/edgars.liepa/Antibiotic_resistance/ww_publication/ARG_RGI_scaffolds/V300049620_L02_123_rgi_filtered.gtf\n",
      "File:  ../../NAS/bioinfo/edgars.liepa/Antibiotic_resistance/ww_publication/ARG_RGI_scaffolds/V300049620_L02_121_rgi.txt\n",
      "Write_to: ../../NAS/bioinfo/edgars.liepa/Antibiotic_resistance/ww_publication/ARG_RGI_scaffolds/V300049620_L02_121_rgi_filtered.gtf\n",
      "File:  ../../NAS/bioinfo/edgars.liepa/Antibiotic_resistance/ww_publication/ARG_RGI_scaffolds/V300049620_L02_124_rgi.txt\n",
      "Write_to: ../../NAS/bioinfo/edgars.liepa/Antibiotic_resistance/ww_publication/ARG_RGI_scaffolds/V300049620_L02_124_rgi_filtered.gtf\n",
      "File:  ../../NAS/bioinfo/edgars.liepa/Antibiotic_resistance/ww_publication/ARG_RGI_scaffolds/V300072773_L01_41_rgi.txt\n",
      "Write_to: ../../NAS/bioinfo/edgars.liepa/Antibiotic_resistance/ww_publication/ARG_RGI_scaffolds/V300072773_L01_41_rgi_filtered.gtf\n",
      "File:  ../../NAS/bioinfo/edgars.liepa/Antibiotic_resistance/ww_publication/ARG_RGI_scaffolds/V300072773_L01_125_rgi.txt\n",
      "Write_to: ../../NAS/bioinfo/edgars.liepa/Antibiotic_resistance/ww_publication/ARG_RGI_scaffolds/V300072773_L01_125_rgi_filtered.gtf\n",
      "File:  ../../NAS/bioinfo/edgars.liepa/Antibiotic_resistance/ww_publication/ARG_RGI_scaffolds/V300079975_L01_13_rgi.txt\n",
      "Write_to: ../../NAS/bioinfo/edgars.liepa/Antibiotic_resistance/ww_publication/ARG_RGI_scaffolds/V300079975_L01_13_rgi_filtered.gtf\n",
      "File:  ../../NAS/bioinfo/edgars.liepa/Antibiotic_resistance/ww_publication/ARG_RGI_scaffolds/V300079975_L01_69_rgi.txt\n",
      "Write_to: ../../NAS/bioinfo/edgars.liepa/Antibiotic_resistance/ww_publication/ARG_RGI_scaffolds/V300079975_L01_69_rgi_filtered.gtf\n",
      "File:  ../../NAS/bioinfo/edgars.liepa/Antibiotic_resistance/ww_publication/ARG_RGI_scaffolds/V300079975_L01_44_rgi.txt\n",
      "Write_to: ../../NAS/bioinfo/edgars.liepa/Antibiotic_resistance/ww_publication/ARG_RGI_scaffolds/V300079975_L01_44_rgi_filtered.gtf\n",
      "File:  ../../NAS/bioinfo/edgars.liepa/Antibiotic_resistance/ww_publication/ARG_RGI_scaffolds/V300072773_L01_47_rgi.txt\n",
      "Write_to: ../../NAS/bioinfo/edgars.liepa/Antibiotic_resistance/ww_publication/ARG_RGI_scaffolds/V300072773_L01_47_rgi_filtered.gtf\n",
      "File:  ../../NAS/bioinfo/edgars.liepa/Antibiotic_resistance/ww_publication/ARG_RGI_scaffolds/V300079975_L01_43_rgi.txt\n",
      "Write_to: ../../NAS/bioinfo/edgars.liepa/Antibiotic_resistance/ww_publication/ARG_RGI_scaffolds/V300079975_L01_43_rgi_filtered.gtf\n",
      "File:  ../../NAS/bioinfo/edgars.liepa/Antibiotic_resistance/ww_publication/ARG_RGI_scaffolds/V300079975_L01_14_rgi.txt\n",
      "Write_to: ../../NAS/bioinfo/edgars.liepa/Antibiotic_resistance/ww_publication/ARG_RGI_scaffolds/V300079975_L01_14_rgi_filtered.gtf\n",
      "File:  ../../NAS/bioinfo/edgars.liepa/Antibiotic_resistance/ww_publication/ARG_RGI_scaffolds/V300079975_L01_48_rgi.txt\n",
      "Write_to: ../../NAS/bioinfo/edgars.liepa/Antibiotic_resistance/ww_publication/ARG_RGI_scaffolds/V300079975_L01_48_rgi_filtered.gtf\n",
      "File:  ../../NAS/bioinfo/edgars.liepa/Antibiotic_resistance/ww_publication/ARG_RGI_scaffolds/V300079503_L02_59_rgi.txt\n",
      "Write_to: ../../NAS/bioinfo/edgars.liepa/Antibiotic_resistance/ww_publication/ARG_RGI_scaffolds/V300079503_L02_59_rgi_filtered.gtf\n",
      "File:  ../../NAS/bioinfo/edgars.liepa/Antibiotic_resistance/ww_publication/ARG_RGI_scaffolds/V300079975_L01_68_rgi.txt\n",
      "Write_to: ../../NAS/bioinfo/edgars.liepa/Antibiotic_resistance/ww_publication/ARG_RGI_scaffolds/V300079975_L01_68_rgi_filtered.gtf\n",
      "File:  ../../NAS/bioinfo/edgars.liepa/Antibiotic_resistance/ww_publication/ARG_RGI_scaffolds/V300079975_L01_72_rgi.txt\n",
      "Write_to: ../../NAS/bioinfo/edgars.liepa/Antibiotic_resistance/ww_publication/ARG_RGI_scaffolds/V300079975_L01_72_rgi_filtered.gtf\n",
      "File:  ../../NAS/bioinfo/edgars.liepa/Antibiotic_resistance/ww_publication/ARG_RGI_scaffolds/V300079503_L02_65_rgi.txt\n",
      "Write_to: ../../NAS/bioinfo/edgars.liepa/Antibiotic_resistance/ww_publication/ARG_RGI_scaffolds/V300079503_L02_65_rgi_filtered.gtf\n",
      "File:  ../../NAS/bioinfo/edgars.liepa/Antibiotic_resistance/ww_publication/ARG_RGI_scaffolds/V300079975_L01_45_rgi.txt\n",
      "Write_to: ../../NAS/bioinfo/edgars.liepa/Antibiotic_resistance/ww_publication/ARG_RGI_scaffolds/V300079975_L01_45_rgi_filtered.gtf\n",
      "File:  ../../NAS/bioinfo/edgars.liepa/Antibiotic_resistance/ww_publication/ARG_RGI_scaffolds/V300072773_L01_128_rgi.txt\n",
      "Write_to: ../../NAS/bioinfo/edgars.liepa/Antibiotic_resistance/ww_publication/ARG_RGI_scaffolds/V300072773_L01_128_rgi_filtered.gtf\n",
      "File:  ../../NAS/bioinfo/edgars.liepa/Antibiotic_resistance/ww_publication/ARG_RGI_scaffolds/V300072773_L01_44_rgi.txt\n",
      "Write_to: ../../NAS/bioinfo/edgars.liepa/Antibiotic_resistance/ww_publication/ARG_RGI_scaffolds/V300072773_L01_44_rgi_filtered.gtf\n",
      "File:  ../../NAS/bioinfo/edgars.liepa/Antibiotic_resistance/ww_publication/ARG_RGI_scaffolds/V300079975_L01_65_rgi.txt\n",
      "Write_to: ../../NAS/bioinfo/edgars.liepa/Antibiotic_resistance/ww_publication/ARG_RGI_scaffolds/V300079975_L01_65_rgi_filtered.gtf\n",
      "File:  ../../NAS/bioinfo/edgars.liepa/Antibiotic_resistance/ww_publication/ARG_RGI_scaffolds/V300079503_L02_63_rgi.txt\n",
      "Write_to: ../../NAS/bioinfo/edgars.liepa/Antibiotic_resistance/ww_publication/ARG_RGI_scaffolds/V300079503_L02_63_rgi_filtered.gtf\n",
      "File:  ../../NAS/bioinfo/edgars.liepa/Antibiotic_resistance/ww_publication/ARG_RGI_scaffolds/V300079975_L01_66_rgi.txt\n",
      "Write_to: ../../NAS/bioinfo/edgars.liepa/Antibiotic_resistance/ww_publication/ARG_RGI_scaffolds/V300079975_L01_66_rgi_filtered.gtf\n",
      "File:  ../../NAS/bioinfo/edgars.liepa/Antibiotic_resistance/ww_publication/ARG_RGI_scaffolds/V300072773_L01_46_rgi.txt\n",
      "Write_to: ../../NAS/bioinfo/edgars.liepa/Antibiotic_resistance/ww_publication/ARG_RGI_scaffolds/V300072773_L01_46_rgi_filtered.gtf\n",
      "File:  ../../NAS/bioinfo/edgars.liepa/Antibiotic_resistance/ww_publication/ARG_RGI_scaffolds/V300079975_L01_15_rgi.txt\n",
      "Write_to: ../../NAS/bioinfo/edgars.liepa/Antibiotic_resistance/ww_publication/ARG_RGI_scaffolds/V300079975_L01_15_rgi_filtered.gtf\n",
      "File:  ../../NAS/bioinfo/edgars.liepa/Antibiotic_resistance/ww_publication/ARG_RGI_scaffolds/V300079503_L02_57_rgi.txt\n",
      "Write_to: ../../NAS/bioinfo/edgars.liepa/Antibiotic_resistance/ww_publication/ARG_RGI_scaffolds/V300079503_L02_57_rgi_filtered.gtf\n",
      "File:  ../../NAS/bioinfo/edgars.liepa/Antibiotic_resistance/ww_publication/ARG_RGI_scaffolds/V300079975_L01_41_rgi.txt\n",
      "Write_to: ../../NAS/bioinfo/edgars.liepa/Antibiotic_resistance/ww_publication/ARG_RGI_scaffolds/V300079975_L01_41_rgi_filtered.gtf\n",
      "File:  ../../NAS/bioinfo/edgars.liepa/Antibiotic_resistance/ww_publication/ARG_RGI_scaffolds/V300079503_L02_67_rgi.txt\n",
      "Write_to: ../../NAS/bioinfo/edgars.liepa/Antibiotic_resistance/ww_publication/ARG_RGI_scaffolds/V300079503_L02_67_rgi_filtered.gtf\n",
      "File:  ../../NAS/bioinfo/edgars.liepa/Antibiotic_resistance/ww_publication/ARG_RGI_scaffolds/V300072773_L01_66_rgi.txt\n",
      "Write_to: ../../NAS/bioinfo/edgars.liepa/Antibiotic_resistance/ww_publication/ARG_RGI_scaffolds/V300072773_L01_66_rgi_filtered.gtf\n",
      "File:  ../../NAS/bioinfo/edgars.liepa/Antibiotic_resistance/ww_publication/ARG_RGI_scaffolds/V300079503_L02_61_rgi.txt\n",
      "Write_to: ../../NAS/bioinfo/edgars.liepa/Antibiotic_resistance/ww_publication/ARG_RGI_scaffolds/V300079503_L02_61_rgi_filtered.gtf\n",
      "File:  ../../NAS/bioinfo/edgars.liepa/Antibiotic_resistance/ww_publication/ARG_RGI_scaffolds/V300079503_L02_58_rgi.txt\n",
      "Write_to: ../../NAS/bioinfo/edgars.liepa/Antibiotic_resistance/ww_publication/ARG_RGI_scaffolds/V300079503_L02_58_rgi_filtered.gtf\n",
      "File:  ../../NAS/bioinfo/edgars.liepa/Antibiotic_resistance/ww_publication/ARG_RGI_scaffolds/V300079975_L01_42_rgi.txt\n",
      "Write_to: ../../NAS/bioinfo/edgars.liepa/Antibiotic_resistance/ww_publication/ARG_RGI_scaffolds/V300079975_L01_42_rgi_filtered.gtf\n",
      "File:  ../../NAS/bioinfo/edgars.liepa/Antibiotic_resistance/ww_publication/ARG_RGI_scaffolds/V300079503_L02_60_rgi.txt\n",
      "Write_to: ../../NAS/bioinfo/edgars.liepa/Antibiotic_resistance/ww_publication/ARG_RGI_scaffolds/V300079503_L02_60_rgi_filtered.gtf\n"
     ]
    }
   ],
   "source": [
    "import pandas as pd\n",
    "import re\n",
    "import os\n",
    "\n",
    "# pattern to remove ending of contigs name.\n",
    "pattern = r\"_\\d+\\s*$\"\n",
    "\n",
    "for i in files:\n",
    "    rgi_rez = pd.read_csv(i, sep=\"\t\")\n",
    "    print(\"File: \", i)\n",
    "    # get filename from \n",
    "\n",
    "    # Extract filename from the path\n",
    "    filename = os.path.basename(i)\n",
    "    print(\"Write_to: \" + out + filename[:-4] + \"_filtered.gtf\")\n",
    "    with open(i[:-4]+\".gtf\", 'w') as f:\n",
    "        # process every lline in RGI txt result file\n",
    "        for j in range(len(rgi_rez)):\n",
    "            if rgi_rez.loc[j][\"Best_Identities\"] >= 90:\n",
    "                # Set strand direction\n",
    "                if (rgi_rez.loc[j][\"Orientation\"] == \"-\"):\n",
    "                    orientation = \"-\"\n",
    "                elif (rgi_rez.loc[j][\"Orientation\"] == \"+\"):\n",
    "                    orientation = \"-\"\n",
    "                else:\n",
    "                    orientation = \".\"\n",
    "\n",
    "                # find contig ID; start and end sequnce postion.\n",
    "                if (int(rgi_rez.loc[j][\"Start\"]) > int(rgi_rez.loc[j][\"Stop\"])):\n",
    "                    str = \"{}\tRGI\tCDS\t{}\t{}\t.\t{}\t.\t gene_id \\\"{}\\\";\".format(re.sub(pattern, \"\", rgi_rez.loc[j][\"Contig\"]), rgi_rez.loc[j][\"Stop\"], rgi_rez.loc[j][\"Start\"], orientation, rgi_rez.loc[j][\"Best_Hit_ARO\"])\n",
    "                else:\n",
    "                    str = \"{}\tRGI\tCDS\t{}\t{}\t.\t{}\t.\t gene_id \\\"{}\\\";\".format(re.sub(pattern, \"\", rgi_rez.loc[j][\"Contig\"]), rgi_rez.loc[j][\"Start\"], rgi_rez.loc[j][\"Stop\"], orientation, rgi_rez.loc[j][\"Best_Hit_ARO\"])\n",
    "                # write line to file\n",
    "                f.write(str)\n",
    "                f.write('\\n')"
   ]
  },
  {
   "cell_type": "code",
   "execution_count": 9,
   "metadata": {},
   "outputs": [
    {
     "name": "stdout",
     "output_type": "stream",
     "text": [
      "/bin/bash: line 1: ~/NAS/bioinfo/edgars.liepa/Antibiotic_resistance/ww_publication/ARG_RGI_scaffolds/V300079503_L02_60_rgi_filtered.gtf: No such file or directory\n"
     ]
    }
   ],
   "source": [
    "!wc -l < \"~/NAS/bioinfo/edgars.liepa/Antibiotic_resistance/ww_publication/ARG_RGI_scaffolds/V300079503_L02_60_rgi_filtered.gtf\""
   ]
  },
  {
   "cell_type": "code",
   "execution_count": 5,
   "metadata": {},
   "outputs": [
    {
     "data": {
      "text/plain": [
       "94.64"
      ]
     },
     "execution_count": 5,
     "metadata": {},
     "output_type": "execute_result"
    }
   ],
   "source": [
    "rgi_rez.loc[j][\"Best_Identities\"]"
   ]
  },
  {
   "cell_type": "code",
   "execution_count": 8,
   "metadata": {},
   "outputs": [
    {
     "name": "stdout",
     "output_type": "stream",
     "text": [
      "<re.Match object; span=(0, 16), match='contig-150_48852'>\n",
      "contig-150_48852\n",
      "contig-150_48852_1\n"
     ]
    }
   ],
   "source": [
    "contig = re.search(\"contig-\\d*_\\d*\", rgi_rez.loc[j][\"Contig\"])\n",
    "print(contig)\n",
    "print(contig.group(0))\n",
    "\n",
    "print(rgi_rez.loc[j][\"Contig\"])"
   ]
  },
  {
   "cell_type": "markdown",
   "metadata": {},
   "source": [
    "# Plasmid Spades result analysis"
   ]
  },
  {
   "cell_type": "code",
   "execution_count": 5,
   "metadata": {},
   "outputs": [],
   "source": [
    "# read files from RGI result directory\n",
    "import glob\n",
    "plasmid_files = glob.glob(\"/home_beegfs/edgars01/Metagenome/AR_sequencing/06_06_2023/plasmids_RGI/*.txt\")\n"
   ]
  },
  {
   "cell_type": "code",
   "execution_count": 6,
   "metadata": {},
   "outputs": [
    {
     "name": "stdout",
     "output_type": "stream",
     "text": [
      "File:  /home_beegfs/edgars01/Metagenome/AR_sequencing/06_06_2023/plasmids_RGI/V350134735_L04_3_rgi.txt\n",
      "File:  /home_beegfs/edgars01/Metagenome/AR_sequencing/06_06_2023/plasmids_RGI/V350134735_L04_1_rgi.txt\n",
      "File:  /home_beegfs/edgars01/Metagenome/AR_sequencing/06_06_2023/plasmids_RGI/V350134735_L02_15_rgi.txt\n",
      "File:  /home_beegfs/edgars01/Metagenome/AR_sequencing/06_06_2023/plasmids_RGI/V350134735_L04_2_rgi.txt\n",
      "File:  /home_beegfs/edgars01/Metagenome/AR_sequencing/06_06_2023/plasmids_RGI/V350134735_L01_16_rgi.txt\n",
      "File:  /home_beegfs/edgars01/Metagenome/AR_sequencing/06_06_2023/plasmids_RGI/V350134735_L01_15_rgi.txt\n",
      "File:  /home_beegfs/edgars01/Metagenome/AR_sequencing/06_06_2023/plasmids_RGI/V350134735_L02_14_rgi.txt\n",
      "File:  /home_beegfs/edgars01/Metagenome/AR_sequencing/06_06_2023/plasmids_RGI/V350134735_L02_16_rgi.txt\n",
      "File:  /home_beegfs/edgars01/Metagenome/AR_sequencing/06_06_2023/plasmids_RGI/V350134735_L04_4_rgi.txt\n",
      "File:  /home_beegfs/edgars01/Metagenome/AR_sequencing/06_06_2023/plasmids_RGI/V350134735_L01_13_rgi.txt\n",
      "File:  /home_beegfs/edgars01/Metagenome/AR_sequencing/06_06_2023/plasmids_RGI/V350134735_L01_14_rgi.txt\n"
     ]
    }
   ],
   "source": [
    "import pandas as pd\n",
    "import re\n",
    "\n",
    "for i in plasmid_files:\n",
    "    \n",
    "    rgi_rez = pd.read_csv(i, sep=\"\t\")\n",
    "    print(\"File: \", i)\n",
    "\n",
    "    with open(i[:-3]+\"gtf\", 'w') as f:\n",
    "        # process every lline in RGI txt result file\n",
    "        for j in range(len(rgi_rez)):    \n",
    "\n",
    "            # Get contig name\n",
    "            contig = rgi_rez.loc[j][\"Contig\"]\n",
    "            \n",
    "            # Set strand direction\n",
    "            if (rgi_rez.loc[j][\"Orientation\"] == \"-\"):\n",
    "                orientation = \"-\"\n",
    "            elif (rgi_rez.loc[j][\"Orientation\"] == \"+\"):\n",
    "                orientation = \"-\"\n",
    "            else:\n",
    "                orientation = \".\"\n",
    "\n",
    "            # find contig ID; start and end sequnce postion.\n",
    "            if (int(rgi_rez.loc[j][\"Start\"]) > int(rgi_rez.loc[j][\"Stop\"])):\n",
    "                str = \"{}\tRGI\tCDS\t{}\t{}\t.\t{}\t.\t gene_id \\\"{}\\\";\".format(contig, rgi_rez.loc[j][\"Stop\"], rgi_rez.loc[j][\"Start\"], orientation, rgi_rez.loc[j][\"AMR Gene Family\"])\n",
    "            else:\n",
    "                str = \"{}\tRGI\tCDS\t{}\t{}\t.\t{}\t.\t gene_id \\\"{}\\\";\".format(contig, rgi_rez.loc[j][\"Start\"], rgi_rez.loc[j][\"Stop\"], orientation, rgi_rez.loc[j][\"AMR Gene Family\"])\n",
    "            # write line to file\n",
    "            f.write(str)\n",
    "            f.write('\\n')\n",
    "\n",
    "\n"
   ]
  },
  {
   "cell_type": "markdown",
   "metadata": {},
   "source": []
  }
 ],
 "metadata": {
  "kernelspec": {
   "display_name": "Python 3",
   "language": "python",
   "name": "python3"
  },
  "language_info": {
   "codemirror_mode": {
    "name": "ipython",
    "version": 3
   },
   "file_extension": ".py",
   "mimetype": "text/x-python",
   "name": "python",
   "nbconvert_exporter": "python",
   "pygments_lexer": "ipython3",
   "version": "3.9.18"
  },
  "orig_nbformat": 4
 },
 "nbformat": 4,
 "nbformat_minor": 2
}
