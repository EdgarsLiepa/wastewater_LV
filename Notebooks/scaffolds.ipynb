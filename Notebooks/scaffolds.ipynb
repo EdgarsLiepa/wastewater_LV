{
 "cells": [
  {
   "cell_type": "code",
   "execution_count": 20,
   "metadata": {},
   "outputs": [
    {
     "name": "stdout",
     "output_type": "stream",
     "text": [
      "['NODE_1_length_23877_cov_224.403284_cutoff_70_type_circular', 'NODE_1_length_20814_cov_19.999710_cutoff_10_type_circular', 'NODE_2_length_162295_cov_7.698504_cutoff_5_type_circular', 'NODE_1_length_161857_cov_270.474593_cutoff_153_type_circular', 'NODE_5_length_9421_cov_5.774155_cutoff_0_type_circular', 'NODE_6_length_9163_cov_42.857459_cutoff_0_type_circular', 'NODE_10_length_7332_cov_1.782929_cutoff_0_type_circular', 'NODE_11_length_6253_cov_41.204212_cutoff_0_type_circular', 'NODE_12_length_6033_cov_1.716559_cutoff_0_type_circular', 'NODE_13_length_5967_cov_7.088356_cutoff_0_type_circular', 'NODE_14_length_5398_cov_3.838740_cutoff_0_type_circular', 'NODE_16_length_4419_cov_386.028425_cutoff_0_type_circular', 'NODE_21_length_3312_cov_2.579906_cutoff_0_type_circular', 'NODE_22_length_2875_cov_34.620451_cutoff_0_type_circular', 'NODE_24_length_2657_cov_2.071146_cutoff_0_type_circular', 'NODE_25_length_2622_cov_20.722645_cutoff_0_type_circular']\n"
     ]
    }
   ],
   "source": [
    "import pandas as pd\n",
    "\n",
    "# Load the result table into a DataFrame\n",
    "result_table = pd.read_csv(\"/home_beegfs/edgars01/Metagenome/AR_sequencing/06_06_2023/assembly/viralVerify_output/V350134735_L01_13_result_table.csv/scaffolds_result_table.csv\")\n",
    "\n",
    "# Filter the DataFrame by prediction\n",
    "scaffold_names = result_table[result_table[\"Prediction\"] == \"Plasmid\"][\"Contig name\"].tolist()\n",
    "\n",
    "# Print the list of Contig names\n",
    "print(plasmid_contigs)"
   ]
  },
  {
   "cell_type": "code",
   "execution_count": 26,
   "metadata": {},
   "outputs": [
    {
     "data": {
      "text/plain": [
       "16"
      ]
     },
     "execution_count": 26,
     "metadata": {},
     "output_type": "execute_result"
    }
   ],
   "source": [
    "from Bio import SeqIO\n",
    "\n",
    "# Load the scaffolds.fasta file\n",
    "scaffolds = SeqIO.parse(\"/home_beegfs/edgars01/Metagenome/AR_sequencing/06_06_2023/plasmids_SPAdes/V350134735_L01_13_SPAdes_assembly/scaffolds.fasta\", \"fasta\")\n",
    "\n",
    "# Filter the scaffolds by Contig name\n",
    "filtered_scaffolds = (s for s in scaffolds if s.id in scaffold_names)\n",
    "\n",
    "\n",
    "# Write the filtered scaffolds to a new file\n",
    "SeqIO.write(filtered_scaffolds, \"/home_beegfs/edgars01/Metagenome/AR_sequencing/06_06_2023/plasmids_SPAdes/V350134735_L01_13_SPAdes_assembly/plasmid_scaffolds.fa\", \"fasta\")"
   ]
  },
  {
   "cell_type": "code",
   "execution_count": 22,
   "metadata": {},
   "outputs": [
    {
     "name": "stdout",
     "output_type": "stream",
     "text": [
      "Sample name: V350134735_L04_4\n",
      "Sample name: V350134735_L02_16\n",
      "Sample name: V350134735_L01_16\n",
      "Sample name: V350134735_L04_2\n",
      "Sample name: V350134735_L01_13\n",
      "Sample name: V350134735_L02_14\n",
      "Sample name: V350134735_L04_3\n",
      "Sample name: V350134735_L01_14\n",
      "Sample name: V350134735_L01_15\n",
      "Sample name: V350134735_L02_15\n",
      "Sample name: V350134735_L04_1\n"
     ]
    }
   ],
   "source": [
    "import os\n",
    "\n",
    "# Define the directory containing the files\n",
    "directory = \"/home_beegfs/edgars01/Metagenome/AR_sequencing/06_06_2023/assembly/viralVerify_output\"\n",
    "\n",
    "# Loop over the files in the directory\n",
    "for filename in os.listdir(directory):\n",
    "    # Extract the sample name from the filename\n",
    "    sample_name = filename.split(\"_result_table.csv\")[0]\n",
    "\n",
    "    # Print the sample name\n",
    "    print(\"Sample name: {}\".format(sample_name))\n",
    "    "
   ]
  },
  {
   "cell_type": "code",
   "execution_count": 1,
   "metadata": {},
   "outputs": [
    {
     "name": "stdout",
     "output_type": "stream",
     "text": [
      "Scaffold names in scaffolds_result_table.csv: ['NODE_2_length_15982_cov_45.461747_cutoff_42_type_circular', 'NODE_1_length_50484_cov_37.548504_cutoff_20_type_circular', 'NODE_3_length_3501_cov_2.263485_cutoff_5_type_circular', 'NODE_1_length_99522_cov_56.171518_cutoff_54_type_circular', 'NODE_2_length_37747_cov_69.979452_cutoff_54_type_circular', 'NODE_1_length_87438_cov_16.859342_cutoff_26_type_circular', 'NODE_4_length_17843_cov_58.306841_cutoff_0_type_circular', 'NODE_7_length_5956_cov_786.793275_cutoff_0_type_circular', 'NODE_8_length_4848_cov_543.965050_cutoff_0_type_circular', 'NODE_9_length_3857_cov_3.013941_cutoff_0_type_circular', 'NODE_10_length_3562_cov_3014.885007_cutoff_0_type_circular', 'NODE_11_length_3536_cov_163.547375_cutoff_0_type_circular', 'NODE_12_length_3527_cov_2918.581765_cutoff_0_type_circular'] \n",
      "count: 13\n",
      "Sample name: V350134735_L04_4\n",
      "Scaffold names in scaffolds_result_table.csv: ['NODE_4_length_35506_cov_8.149750_cutoff_0_type_circular', 'NODE_5_length_9421_cov_13.659135_cutoff_0_type_circular', 'NODE_7_length_7249_cov_2.931761_cutoff_0_type_circular', 'NODE_8_length_5982_cov_6.032622_cutoff_0_type_circular', 'NODE_9_length_5721_cov_12.772971_cutoff_0_type_circular', 'NODE_10_length_5361_cov_5.591326_cutoff_0_type_circular', 'NODE_11_length_4990_cov_1078.409624_cutoff_0_type_circular', 'NODE_12_length_3536_cov_9.908478_cutoff_0_type_circular', 'NODE_1_length_2427_cov_285.100000_cutoff_91_type_circular'] \n",
      "count: 9\n",
      "Sample name: V350134735_L02_16\n",
      "Scaffold names in scaffolds_result_table.csv: ['NODE_1_length_50016_cov_22.540159_cutoff_20_type_circular', 'NODE_2_length_16920_cov_17.114214_cutoff_20_type_circular', 'NODE_3_length_7933_cov_57.592877_cutoff_20_type_circular', 'NODE_1_length_88418_cov_204.845556_cutoff_118_type_circular', 'NODE_1_length_27103_cov_481.100979_cutoff_434_type_circular', 'NODE_3_length_32255_cov_6.248475_cutoff_5_type_circular', 'NODE_4_length_28367_cov_11.277514_cutoff_5_type_circular', 'NODE_5_length_21343_cov_6.123492_cutoff_5_type_circular', 'NODE_6_length_9169_cov_42.017695_cutoff_5_type_circular', 'NODE_1_length_28911_cov_32.570525_cutoff_26_type_circular', 'NODE_5_length_83954_cov_25.991614_cutoff_0_type_circular', 'NODE_9_length_7916_cov_23.897291_cutoff_0_type_circular', 'NODE_10_length_6743_cov_108.532195_cutoff_0_type_circular', 'NODE_11_length_5721_cov_116.677333_cutoff_0_type_circular', 'NODE_14_length_4740_cov_134.106438_cutoff_0_type_circular', 'NODE_15_length_3819_cov_1148.167660_cutoff_0_type_circular', 'NODE_16_length_3813_cov_188.039609_cutoff_0_type_circular'] \n",
      "count: 17\n",
      "Sample name: V350134735_L01_16\n",
      "Scaffold names in scaffolds_result_table.csv: ['NODE_1_length_17207_cov_155.451464_cutoff_70_type_circular', 'NODE_2_length_13268_cov_159.297923_cutoff_70_type_circular', 'NODE_3_length_5724_cov_299.038056_cutoff_70_type_circular', 'NODE_1_length_26816_cov_162.386938_cutoff_118_type_circular', 'NODE_1_length_50016_cov_426.378280_cutoff_334_type_circular', 'NODE_1_length_26498_cov_247.400781_cutoff_257_type_circular', 'NODE_1_length_5400_cov_32.897212_cutoff_15_type_circular', 'NODE_1_length_9964_cov_121.164888_cutoff_33_type_circular', 'NODE_4_length_21377_cov_778.907106_cutoff_0_type_circular', 'NODE_5_length_9255_cov_135.938979_cutoff_0_type_circular', 'NODE_6_length_8860_cov_5.727471_cutoff_0_type_circular', 'NODE_8_length_7197_cov_2.780057_cutoff_0_type_circular', 'NODE_9_length_5749_cov_5.869441_cutoff_0_type_circular', 'NODE_10_length_5301_cov_367.433900_cutoff_0_type_circular', 'NODE_11_length_4848_cov_206.973734_cutoff_0_type_circular', 'NODE_12_length_4419_cov_18.026328_cutoff_0_type_circular', 'NODE_13_length_3881_cov_358.041023_cutoff_0_type_circular', 'NODE_14_length_3813_cov_421.755290_cutoff_0_type_circular', 'NODE_15_length_3192_cov_54.284176_cutoff_0_type_circular', 'NODE_16_length_3051_cov_27.611149_cutoff_0_type_circular', 'NODE_17_length_2657_cov_117.115020_cutoff_0_type_circular'] \n",
      "count: 21\n",
      "Sample name: V350134735_L04_2\n",
      "Scaffold names in scaffolds_result_table.csv: ['NODE_1_length_23877_cov_224.403284_cutoff_70_type_circular', 'NODE_1_length_20814_cov_19.999710_cutoff_10_type_circular', 'NODE_2_length_5956_cov_248.316521_cutoff_10_type_circular', 'NODE_2_length_162295_cov_7.698504_cutoff_5_type_circular', 'NODE_4_length_3890_cov_2.219240_cutoff_5_type_circular', 'NODE_1_length_161857_cov_270.474593_cutoff_153_type_circular', 'NODE_5_length_9421_cov_5.774155_cutoff_0_type_circular', 'NODE_6_length_9163_cov_42.857459_cutoff_0_type_circular', 'NODE_10_length_7332_cov_1.782929_cutoff_0_type_circular', 'NODE_11_length_6253_cov_41.204212_cutoff_0_type_circular', 'NODE_12_length_6033_cov_1.716559_cutoff_0_type_circular', 'NODE_13_length_5967_cov_7.088356_cutoff_0_type_circular', 'NODE_14_length_5398_cov_3.838740_cutoff_0_type_circular', 'NODE_16_length_4419_cov_386.028425_cutoff_0_type_circular', 'NODE_17_length_3815_cov_3.551790_cutoff_0_type_circular', 'NODE_19_length_3536_cov_104.465532_cutoff_0_type_circular', 'NODE_21_length_3312_cov_2.579906_cutoff_0_type_circular', 'NODE_22_length_2875_cov_34.620451_cutoff_0_type_circular', 'NODE_24_length_2657_cov_2.071146_cutoff_0_type_circular', 'NODE_25_length_2622_cov_20.722645_cutoff_0_type_circular'] \n",
      "count: 20\n",
      "Sample name: V350134735_L01_13\n",
      "Scaffold names in scaffolds_result_table.csv: ['NODE_1_length_2005_cov_292.490415_cutoff_42_type_circular', 'NODE_1_length_3536_cov_329.241420_cutoff_70_type_circular', 'NODE_4_length_16990_cov_10.579078_cutoff_10_type_circular', 'NODE_1_length_27519_cov_474.392268_cutoff_434_type_circular', 'NODE_5_length_9169_cov_49.723291_cutoff_5_type_circular', 'NODE_6_length_8475_cov_1.480115_cutoff_5_type_circular', 'NODE_10_length_1967_cov_19.690217_cutoff_5_type_circular', 'NODE_2_length_41133_cov_63.033751_cutoff_54_type_circular', 'NODE_1_length_77415_cov_19.432693_cutoff_15_type_circular', 'NODE_2_length_19825_cov_15.147832_cutoff_15_type_circular', 'NODE_3_length_5757_cov_390.582060_cutoff_15_type_circular', 'NODE_4_length_2352_cov_10.862472_cutoff_15_type_circular', 'NODE_5_length_2173_cov_11.571359_cutoff_15_type_circular', 'NODE_2_length_5531_cov_93.696706_cutoff_26_type_circular', 'NODE_7_length_33784_cov_219.210506_cutoff_0_type_circular', 'NODE_8_length_30951_cov_3.915683_cutoff_0_type_circular', 'NODE_10_length_18842_cov_26.103927_cutoff_0_type_circular', 'NODE_11_length_17684_cov_3.089537_cutoff_0_type_circular', 'NODE_12_length_15040_cov_3.413062_cutoff_0_type_circular', 'NODE_13_length_13556_cov_57.417604_cutoff_0_type_circular', 'NODE_16_length_8627_cov_386.649176_cutoff_0_type_circular', 'NODE_19_length_7379_cov_301.722421_cutoff_0_type_circular', 'NODE_20_length_6631_cov_13.423278_cutoff_0_type_circular', 'NODE_21_length_5775_cov_781.370574_cutoff_0_type_circular', 'NODE_24_length_5312_cov_1012.667695_cutoff_0_type_circular', 'NODE_25_length_5027_cov_16.699592_cutoff_0_type_circular', 'NODE_26_length_4907_cov_61.423640_cutoff_0_type_circular', 'NODE_27_length_4855_cov_1944.434645_cutoff_0_type_circular', 'NODE_28_length_4848_cov_582.409871_cutoff_0_type_circular', 'NODE_30_length_4479_cov_2.987822_cutoff_0_type_circular', 'NODE_34_length_4223_cov_206.963623_cutoff_0_type_circular', 'NODE_35_length_4188_cov_15.456538_cutoff_0_type_circular', 'NODE_37_length_3857_cov_547.209115_cutoff_0_type_circular', 'NODE_38_length_3819_cov_27.013001_cutoff_0_type_circular', 'NODE_46_length_2657_cov_315.852964_cutoff_0_type_circular', 'NODE_50_length_2408_cov_1.317405_cutoff_0_type_circular', 'NODE_51_length_2343_cov_4.445397_cutoff_0_type_circular', 'NODE_1_length_247426_cov_139.697686_cutoff_91_type_circular', 'NODE_2_length_5721_cov_697.820343_cutoff_91_type_circular'] \n",
      "count: 39\n",
      "Sample name: V350134735_L02_14\n",
      "Scaffold names in scaffolds_result_table.csv: ['NODE_1_length_34442_cov_82.625120_cutoff_42_type_circular', 'NODE_2_length_22899_cov_56.989549_cutoff_42_type_circular', 'NODE_2_length_3285_cov_1.986067_cutoff_5_type_circular', 'NODE_1_length_33068_cov_60.522480_cutoff_54_type_circular', 'NODE_2_length_15804_cov_60.781272_cutoff_54_type_circular', 'NODE_3_length_5956_cov_2080.103105_cutoff_54_type_circular', 'NODE_4_length_4219_cov_130.275660_cutoff_54_type_circular', 'NODE_2_length_5992_cov_20.131969_cutoff_26_type_circular', 'NODE_7_length_9163_cov_325.669323_cutoff_0_type_circular', 'NODE_8_length_8898_cov_40.004903_cutoff_0_type_circular', 'NODE_12_length_7249_cov_57.573434_cutoff_0_type_circular', 'NODE_13_length_6950_cov_1.553276_cutoff_0_type_circular', 'NODE_14_length_5982_cov_144.211785_cutoff_0_type_circular', 'NODE_16_length_5537_cov_25.028466_cutoff_0_type_circular', 'NODE_17_length_5393_cov_8.513293_cutoff_0_type_circular', 'NODE_18_length_5240_cov_7.092705_cutoff_0_type_circular', 'NODE_19_length_4854_cov_106.314576_cutoff_0_type_circular', 'NODE_20_length_4848_cov_35.998517_cutoff_0_type_circular', 'NODE_21_length_4668_cov_73.208104_cutoff_0_type_circular', 'NODE_22_length_4539_cov_304.450363_cutoff_0_type_circular', 'NODE_23_length_4419_cov_2106.671249_cutoff_0_type_circular', 'NODE_24_length_3781_cov_76.240011_cutoff_0_type_circular', 'NODE_25_length_3562_cov_103.169432_cutoff_0_type_circular', 'NODE_29_length_2877_cov_63.410909_cutoff_0_type_circular', 'NODE_31_length_2722_cov_860.726012_cutoff_0_type_circular', 'NODE_33_length_2622_cov_93.211222_cutoff_0_type_circular'] \n",
      "count: 26\n",
      "Sample name: V350134735_L04_3\n",
      "Scaffold names in scaffolds_result_table.csv: ['NODE_1_length_13187_cov_22.467688_cutoff_20_type_circular', 'NODE_1_length_36905_cov_118.029284_cutoff_70_type_circular', 'NODE_3_length_1214_cov_1298.645814_cutoff_257_type_circular', 'NODE_2_length_94682_cov_30.254127_cutoff_10_type_circular', 'NODE_3_length_28911_cov_8.577091_cutoff_10_type_circular', 'NODE_5_length_2332_cov_41.603628_cutoff_10_type_circular', 'NODE_5_length_2379_cov_11.536412_cutoff_5_type_circular', 'NODE_1_length_3790_cov_35.817909_cutoff_26_type_circular', 'NODE_1_length_5048_cov_642.381630_cutoff_153_type_circular', 'NODE_3_length_150398_cov_9.010222_cutoff_0_type_circular', 'NODE_4_length_61918_cov_339.519606_cutoff_0_type_circular', 'NODE_10_length_21771_cov_13.112225_cutoff_0_type_circular', 'NODE_14_length_9822_cov_11.288293_cutoff_0_type_circular', 'NODE_15_length_7252_cov_1.225825_cutoff_0_type_circular', 'NODE_16_length_6755_cov_5.528666_cutoff_0_type_circular', 'NODE_17_length_5917_cov_1605.046114_cutoff_0_type_circular', 'NODE_18_length_4538_cov_133.323509_cutoff_0_type_circular', 'NODE_19_length_4288_cov_1593.969959_cutoff_0_type_circular', 'NODE_25_length_3310_cov_4.049325_cutoff_0_type_circular', 'NODE_26_length_2722_cov_57.329865_cutoff_0_type_circular', 'NODE_27_length_2620_cov_72.304452_cutoff_0_type_circular'] \n",
      "count: 21\n",
      "Sample name: V350134735_L01_14\n",
      "Scaffold names in scaffolds_result_table.csv: ['NODE_2_length_1309_cov_337.411168_cutoff_42_type_circular', 'NODE_1_length_16637_cov_47.622108_cutoff_20_type_circular', 'NODE_2_length_9169_cov_61.673855_cutoff_20_type_circular', 'NODE_3_length_4538_cov_47.784856_cutoff_20_type_circular', 'NODE_4_length_2231_cov_70.110741_cutoff_20_type_circular', 'NODE_1_length_12643_cov_342.896453_cutoff_257_type_circular', 'NODE_3_length_93874_cov_9.056695_cutoff_5_type_circular', 'NODE_10_length_3757_cov_3.058127_cutoff_5_type_circular', 'NODE_2_length_23007_cov_13.394886_cutoff_15_type_circular', 'NODE_3_length_15577_cov_42.581489_cutoff_15_type_circular', 'NODE_1_length_8432_cov_80.829500_cutoff_26_type_circular', 'NODE_1_length_5048_cov_911.671611_cutoff_33_type_circular', 'NODE_7_length_206982_cov_11.067994_cutoff_0_type_circular', 'NODE_8_length_81061_cov_3.017273_cutoff_0_type_circular', 'NODE_12_length_21771_cov_2.972048_cutoff_0_type_circular', 'NODE_16_length_7916_cov_66.487868_cutoff_0_type_circular', 'NODE_17_length_6056_cov_59.307809_cutoff_0_type_circular', 'NODE_18_length_5965_cov_208.347893_cutoff_0_type_circular', 'NODE_19_length_5872_cov_4.330026_cutoff_0_type_circular', 'NODE_21_length_5529_cov_2.345057_cutoff_0_type_circular', 'NODE_24_length_5137_cov_2.968463_cutoff_0_type_circular', 'NODE_25_length_4928_cov_7.735888_cutoff_0_type_circular', 'NODE_27_length_4454_cov_19.653339_cutoff_0_type_circular', 'NODE_29_length_4288_cov_1227.477049_cutoff_0_type_circular', 'NODE_32_length_4102_cov_1.346415_cutoff_0_type_circular', 'NODE_37_length_3671_cov_6.164221_cutoff_0_type_circular', 'NODE_38_length_3538_cov_9.455292_cutoff_0_type_circular', 'NODE_50_length_1598_cov_1.023114_cutoff_0_type_circular', 'NODE_1_length_18015_cov_356.254752_cutoff_91_type_circular'] \n",
      "count: 29\n",
      "Sample name: V350134735_L01_15\n",
      "Scaffold names in scaffolds_result_table.csv: ['NODE_1_length_31046_cov_119.036515_cutoff_70_type_circular', 'NODE_2_length_13556_cov_96.756572_cutoff_10_type_circular', 'NODE_1_length_15953_cov_161.266650_cutoff_198_type_circular', 'NODE_1_length_27519_cov_469.068998_cutoff_434_type_circular', 'NODE_5_length_41586_cov_3.684363_cutoff_5_type_circular', 'NODE_6_length_20802_cov_12.688174_cutoff_5_type_circular', 'NODE_8_length_6044_cov_1.577320_cutoff_5_type_circular', 'NODE_10_length_2411_cov_2.194396_cutoff_5_type_circular', 'NODE_2_length_22319_cov_22.542583_cutoff_26_type_circular', 'NODE_6_length_2332_cov_164.967800_cutoff_26_type_circular', 'NODE_2_length_8806_cov_315.884088_cutoff_153_type_circular', 'NODE_3_length_4480_cov_212.424075_cutoff_153_type_circular', 'NODE_1_length_5967_cov_39.165753_cutoff_33_type_circular', 'NODE_5_length_63182_cov_34.787329_cutoff_0_type_circular', 'NODE_10_length_40139_cov_22.065855_cutoff_0_type_circular', 'NODE_16_length_22596_cov_67.306467_cutoff_0_type_circular', 'NODE_17_length_18676_cov_21.968085_cutoff_0_type_circular', 'NODE_18_length_14593_cov_15.366653_cutoff_0_type_circular', 'NODE_19_length_14300_cov_3.548296_cutoff_0_type_circular', 'NODE_20_length_11032_cov_31.612563_cutoff_0_type_circular', 'NODE_21_length_9163_cov_7.256972_cutoff_0_type_circular', 'NODE_22_length_8802_cov_11.771988_cutoff_0_type_circular', 'NODE_23_length_8745_cov_148.927709_cutoff_0_type_circular', 'NODE_24_length_8408_cov_111.218090_cutoff_0_type_circular', 'NODE_25_length_8122_cov_2.097936_cutoff_0_type_circular', 'NODE_26_length_7249_cov_81.122859_cutoff_0_type_circular', 'NODE_31_length_6119_cov_162.327103_cutoff_0_type_circular', 'NODE_32_length_6010_cov_50.867755_cutoff_0_type_circular', 'NODE_33_length_5982_cov_154.859778_cutoff_0_type_circular', 'NODE_34_length_5903_cov_113.302632_cutoff_0_type_circular', 'NODE_36_length_5721_cov_275.140329_cutoff_0_type_circular', 'NODE_37_length_5531_cov_570.053294_cutoff_0_type_circular', 'NODE_40_length_4907_cov_96.599372_cutoff_0_type_circular', 'NODE_41_length_4900_cov_13.919547_cutoff_0_type_circular', 'NODE_43_length_4481_cov_26.243684_cutoff_0_type_circular', 'NODE_45_length_4223_cov_399.869873_cutoff_0_type_circular', 'NODE_48_length_3487_cov_24.602679_cutoff_0_type_circular', 'NODE_1_length_4094_cov_109.371565_cutoff_91_type_circular', 'NODE_2_length_3536_cov_469.155764_cutoff_91_type_circular', 'NODE_3_length_3136_cov_369.067464_cutoff_91_type_circular'] \n",
      "count: 40\n",
      "Sample name: V350134735_L02_15\n",
      "Scaffold names in scaffolds_result_table.csv: ['NODE_1_length_9575_cov_79.893417_cutoff_42_type_circular', 'NODE_2_length_3459_cov_376.032413_cutoff_42_type_circular', 'NODE_1_length_7405_cov_125.551113_cutoff_20_type_circular', 'NODE_2_length_5713_cov_47.146079_cutoff_20_type_circular', 'NODE_3_length_5398_cov_62.470878_cutoff_20_type_circular', 'NODE_4_length_5232_cov_83.013712_cutoff_20_type_circular', 'NODE_1_length_6442_cov_86.758670_cutoff_70_type_circular', 'NODE_2_length_6002_cov_90.418043_cutoff_70_type_circular', 'NODE_3_length_5481_cov_129.137654_cutoff_70_type_circular', 'NODE_1_length_8658_cov_205.462079_cutoff_334_type_circular', 'NODE_2_length_6721_cov_287.147103_cutoff_10_type_circular', 'NODE_3_length_5974_cov_12.767231_cutoff_10_type_circular', 'NODE_4_length_5730_cov_15.850259_cutoff_10_type_circular', 'NODE_5_length_5048_cov_30.273928_cutoff_10_type_circular', 'NODE_6_length_4132_cov_22.195755_cutoff_10_type_circular', 'NODE_7_length_4078_cov_31.053657_cutoff_10_type_circular', 'NODE_8_length_3928_cov_14.568008_cutoff_10_type_circular', 'NODE_9_length_2485_cov_169.075064_cutoff_10_type_circular', 'NODE_1_length_10901_cov_246.541303_cutoff_198_type_circular', 'NODE_4_length_8793_cov_2.123240_cutoff_5_type_circular', 'NODE_8_length_7213_cov_3.122777_cutoff_5_type_circular', 'NODE_9_length_6905_cov_10.506787_cutoff_5_type_circular', 'NODE_10_length_6770_cov_26.429174_cutoff_5_type_circular', 'NODE_11_length_6402_cov_1.543586_cutoff_5_type_circular', 'NODE_12_length_6226_cov_12.116249_cutoff_5_type_circular', 'NODE_13_length_6019_cov_1.093686_cutoff_5_type_circular', 'NODE_14_length_5560_cov_25.022455_cutoff_5_type_circular', 'NODE_15_length_5472_cov_10.262301_cutoff_5_type_circular', 'NODE_16_length_5344_cov_8.489170_cutoff_5_type_circular', 'NODE_17_length_5247_cov_6.593555_cutoff_5_type_circular', 'NODE_18_length_5034_cov_18.782148_cutoff_5_type_circular', 'NODE_19_length_4841_cov_3.886084_cutoff_5_type_circular', 'NODE_21_length_4639_cov_12.185727_cutoff_5_type_circular', 'NODE_22_length_4598_cov_8.931783_cutoff_5_type_circular', 'NODE_25_length_4024_cov_1.295099_cutoff_5_type_circular', 'NODE_27_length_3971_cov_21.657128_cutoff_5_type_circular', 'NODE_28_length_3830_cov_7.503376_cutoff_5_type_circular', 'NODE_31_length_3641_cov_1.940239_cutoff_5_type_circular', 'NODE_32_length_3621_cov_5.910990_cutoff_5_type_circular', 'NODE_35_length_3587_cov_12.564740_cutoff_5_type_circular', 'NODE_37_length_3489_cov_3.631469_cutoff_5_type_circular', 'NODE_38_length_3295_cov_7.807449_cutoff_5_type_circular', 'NODE_41_length_2944_cov_4.873269_cutoff_5_type_circular', 'NODE_62_length_2210_cov_3.700912_cutoff_5_type_circular', 'NODE_71_length_1924_cov_32.427935_cutoff_5_type_circular', 'NODE_1_length_20037_cov_78.774586_cutoff_54_type_circular', 'NODE_2_length_5673_cov_203.910927_cutoff_54_type_circular', 'NODE_3_length_5402_cov_143.863318_cutoff_54_type_circular', 'NODE_4_length_5181_cov_202.535813_cutoff_54_type_circular', 'NODE_1_length_12881_cov_36.420731_cutoff_15_type_circular', 'NODE_3_length_3895_cov_36.293259_cutoff_15_type_circular', 'NODE_4_length_3354_cov_39.499845_cutoff_15_type_circular', 'NODE_5_length_2358_cov_14.700134_cutoff_15_type_circular', 'NODE_1_length_26259_cov_23.049097_cutoff_26_type_circular', 'NODE_2_length_14729_cov_40.638406_cutoff_26_type_circular', 'NODE_3_length_5094_cov_38.558083_cutoff_26_type_circular', 'NODE_1_length_7056_cov_30.533122_cutoff_33_type_circular', 'NODE_2_length_5109_cov_39.756523_cutoff_33_type_circular', 'NODE_10_length_35609_cov_3.417113_cutoff_0_type_circular', 'NODE_12_length_16545_cov_4.304970_cutoff_0_type_circular', 'NODE_13_length_15311_cov_1.496114_cutoff_0_type_circular', 'NODE_17_length_8409_cov_1.735692_cutoff_0_type_circular', 'NODE_21_length_7144_cov_10.358273_cutoff_0_type_circular', 'NODE_26_length_6762_cov_22.318161_cutoff_0_type_circular', 'NODE_27_length_6512_cov_21.558966_cutoff_0_type_circular', 'NODE_29_length_6384_cov_1.657024_cutoff_0_type_circular', 'NODE_31_length_6212_cov_3.403122_cutoff_0_type_circular', 'NODE_32_length_6206_cov_16.809508_cutoff_0_type_circular', 'NODE_33_length_6190_cov_15.413492_cutoff_0_type_circular', 'NODE_34_length_5970_cov_2.478692_cutoff_0_type_circular', 'NODE_35_length_5969_cov_5.918692_cutoff_0_type_circular', 'NODE_38_length_5843_cov_1.341148_cutoff_0_type_circular', 'NODE_39_length_5800_cov_26.603737_cutoff_0_type_circular', 'NODE_40_length_5758_cov_5.289824_cutoff_0_type_circular', 'NODE_41_length_5730_cov_2.373014_cutoff_0_type_circular', 'NODE_42_length_5635_cov_2.570443_cutoff_0_type_circular', 'NODE_43_length_5626_cov_2.431169_cutoff_0_type_circular', 'NODE_45_length_5524_cov_3.457847_cutoff_0_type_circular', 'NODE_46_length_5390_cov_1.640319_cutoff_0_type_circular', 'NODE_47_length_5371_cov_164.284134_cutoff_0_type_circular', 'NODE_49_length_5343_cov_0.975652_cutoff_0_type_circular', 'NODE_50_length_5302_cov_2.178744_cutoff_0_type_circular', 'NODE_51_length_5084_cov_18.508170_cutoff_0_type_circular', 'NODE_52_length_5056_cov_19.153987_cutoff_0_type_circular', 'NODE_53_length_5032_cov_9.925790_cutoff_0_type_circular', 'NODE_54_length_5004_cov_1.325405_cutoff_0_type_circular', 'NODE_55_length_4940_cov_2.100769_cutoff_0_type_circular', 'NODE_56_length_4926_cov_3.807668_cutoff_0_type_circular', 'NODE_57_length_4918_cov_2.990607_cutoff_0_type_circular', 'NODE_58_length_4848_cov_13.696674_cutoff_0_type_circular', 'NODE_59_length_4758_cov_1.935219_cutoff_0_type_circular', 'NODE_60_length_4696_cov_5.815933_cutoff_0_type_circular', 'NODE_61_length_4671_cov_34.828785_cutoff_0_type_circular', 'NODE_62_length_4660_cov_20.311493_cutoff_0_type_circular', 'NODE_64_length_4469_cov_15.025104_cutoff_0_type_circular', 'NODE_67_length_4353_cov_7.329389_cutoff_0_type_circular', 'NODE_68_length_4331_cov_23.543054_cutoff_0_type_circular', 'NODE_69_length_4287_cov_3.809135_cutoff_0_type_circular', 'NODE_71_length_4262_cov_6.565175_cutoff_0_type_circular', 'NODE_72_length_4255_cov_315.029554_cutoff_0_type_circular', 'NODE_74_length_4164_cov_194.047312_cutoff_0_type_circular', 'NODE_75_length_4164_cov_11.080010_cutoff_0_type_circular', 'NODE_76_length_4153_cov_3.578738_cutoff_0_type_circular', 'NODE_77_length_4081_cov_13.094841_cutoff_0_type_circular', 'NODE_78_length_4055_cov_2.059063_cutoff_0_type_circular', 'NODE_81_length_3990_cov_1.377945_cutoff_0_type_circular', 'NODE_82_length_3986_cov_2.976678_cutoff_0_type_circular', 'NODE_84_length_3943_cov_26.142034_cutoff_0_type_circular', 'NODE_88_length_3814_cov_6.086520_cutoff_0_type_circular', 'NODE_89_length_3784_cov_2.920700_cutoff_0_type_circular', 'NODE_91_length_3763_cov_3.592134_cutoff_0_type_circular', 'NODE_92_length_3736_cov_51.865060_cutoff_0_type_circular', 'NODE_93_length_3686_cov_18.903063_cutoff_0_type_circular', 'NODE_97_length_3616_cov_83.880482_cutoff_0_type_circular', 'NODE_100_length_3394_cov_2.650750_cutoff_0_type_circular', 'NODE_109_length_3195_cov_3.730117_cutoff_0_type_circular', 'NODE_111_length_3127_cov_2.845667_cutoff_0_type_circular', 'NODE_114_length_3064_cov_159.843037_cutoff_0_type_circular', 'NODE_115_length_3048_cov_5.172886_cutoff_0_type_circular', 'NODE_124_length_2897_cov_2.112635_cutoff_0_type_circular', 'NODE_125_length_2845_cov_1.731788_cutoff_0_type_circular', 'NODE_127_length_2741_cov_1.408952_cutoff_0_type_circular', 'NODE_132_length_2622_cov_3.701002_cutoff_0_type_circular', 'NODE_146_length_2479_cov_0.814201_cutoff_0_type_circular', 'NODE_158_length_2230_cov_1.449358_cutoff_0_type_circular', 'NODE_161_length_2225_cov_0.741659_cutoff_0_type_circular', 'NODE_183_length_2006_cov_2.914848_cutoff_0_type_circular', 'NODE_184_length_1972_cov_2.449322_cutoff_0_type_circular', 'NODE_186_length_1964_cov_0.793685_cutoff_0_type_circular', 'NODE_209_length_1615_cov_3.305108_cutoff_0_type_circular', 'NODE_237_length_1249_cov_1.665775_cutoff_0_type_circular', 'NODE_1_length_11896_cov_121.540658_cutoff_91_type_circular'] \n",
      "count: 132\n",
      "Sample name: V350134735_L04_1\n"
     ]
    }
   ],
   "source": [
    "import os\n",
    "import pandas as pd\n",
    "from Bio import SeqIO\n",
    "\n",
    "# Define the directory containing the result tables\n",
    "directory = \"/home_beegfs/edgars01/Metagenome/AR_sequencing/06_06_2023/plasmids_SPAdes/viralVerify_output\"\n",
    "SPADESdirectory = \"/home_beegfs/edgars01/Metagenome/AR_sequencing/06_06_2023/plasmids_SPAdes/\"\n",
    "\n",
    "# Loop over the files in the directory\n",
    "for samples in os.listdir(directory):\n",
    "    for filename in os.listdir(directory+\"/\"+samples):\n",
    "        if filename.endswith(\"scaffolds_result_table.csv\"):\n",
    "            # Load the result table into a DataFrame\n",
    "            result_table = pd.read_csv(os.path.join(directory,samples, filename), sep=\",\")\n",
    "\n",
    "            # Filter the DataFrame by prediction\n",
    "            scaffold_names = result_table[(result_table[\"Prediction\"] == \"Plasmid\") | (result_table[\"Prediction\"] == \"Uncertain - plasmid or chromosomal\")][\"Contig name\"].tolist()\n",
    "            # Print the list of Contig names\n",
    "            print(\"Scaffold names in {}: {} \\ncount: {}\".format(filename, scaffold_names, len(scaffold_names)))\n",
    "\n",
    "            # Extract the sample ID from the filename\n",
    "            sample_ID = samples.split(\"_result_table.csv\")[0]\n",
    "            # Print the sample name\n",
    "            print(\"Sample name: {}\".format(sample_ID))\n",
    "\n",
    "            # Load the scaffolds.fasta file\n",
    "            scaffolds = SeqIO.parse(SPADESdirectory+sample_ID+\"_SPAdes_assembly/scaffolds.fasta\", \"fasta\")\n",
    "\n",
    "            # Filter the scaffolds by Contig name\n",
    "            filtered_scaffolds = (s for s in scaffolds if s.id in scaffold_names)\n",
    "\n",
    "            # Write the filtered scaffolds to a new file\n",
    "            SeqIO.write(filtered_scaffolds, SPADESdirectory+sample_ID+\"_SPAdes_assembly/plasmid_scaffolds.fa\", \"fasta\")"
   ]
  },
  {
   "cell_type": "code",
   "execution_count": null,
   "metadata": {},
   "outputs": [],
   "source": []
  }
 ],
 "metadata": {
  "kernelspec": {
   "display_name": "antibiotic_rez",
   "language": "python",
   "name": "python3"
  },
  "language_info": {
   "codemirror_mode": {
    "name": "ipython",
    "version": 3
   },
   "file_extension": ".py",
   "mimetype": "text/x-python",
   "name": "python",
   "nbconvert_exporter": "python",
   "pygments_lexer": "ipython3",
   "version": "3.9.13"
  },
  "orig_nbformat": 4
 },
 "nbformat": 4,
 "nbformat_minor": 2
}
